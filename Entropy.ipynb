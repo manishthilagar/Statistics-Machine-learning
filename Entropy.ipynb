{
 "cells": [
  {
   "cell_type": "markdown",
   "metadata": {},
   "source": [
    "**Python Notebook: Exploring Entropy**\n",
    "This notebook explains entropy, a fundamental concept in machine learning, and demonstrates its calculation with Python.\n",
    "\n",
    "**Import Libraries**"
   ]
  },
  {
   "cell_type": "code",
   "execution_count": 1,
   "metadata": {},
   "outputs": [],
   "source": [
    "import math"
   ]
  },
  {
   "cell_type": "markdown",
   "metadata": {},
   "source": [
    "**Understanding Entropy**\n",
    "\n",
    "Entropy measures the level of uncertainty associated with a random variable. It essentially tells us how much information we need, on average, to predict the value of that variable. Imagine flipping a coin: there's high uncertainty (two equally probable outcomes), so entropy is high (one bit of information needed).\n",
    "\n",
    "**Entropy Formula**\n",
    "\n",
    "Shannon's entropy formula quantifies this uncertainty:\n",
    "\n",
    "H(X) = -Σ p(x) * log2(p(x))\n",
    "Here,\n",
    "\n",
    "H(X) represents the entropy of a random variable X.\n",
    "Σ (sigma) denotes summation across all possible values (x) of X.\n",
    "p(x) signifies the probability of encountering the value x.\n",
    "log2 is the logarithm function with base 2.\n",
    "Example: Colorful Marbles\n",
    "\n",
    "Let's calculate the entropy of randomly picking a marble from a bowl containing 4 red marbles and 6 blue marbles (total 10 marbles).\n",
    "\n",
    "**1. Define Probabilities**"
   ]
  },
  {
   "cell_type": "code",
   "execution_count": 2,
   "metadata": {},
   "outputs": [
    {
     "name": "stdout",
     "output_type": "stream",
     "text": [
      "Probability of red marble: 0.4\n",
      "Probability of blue marble: 0.6\n"
     ]
    }
   ],
   "source": [
    "red_marbles = 4\n",
    "blue_marbles = 6\n",
    "total_marbles = red_marbles + blue_marbles\n",
    "\n",
    "probability_red = red_marbles / total_marbles\n",
    "probability_blue = blue_marbles / total_marbles\n",
    "\n",
    "print(\"Probability of red marble:\", probability_red)\n",
    "print(\"Probability of blue marble:\", probability_blue)\n"
   ]
  },
  {
   "cell_type": "markdown",
   "metadata": {},
   "source": [
    "**2. Calculate Entropy Function**"
   ]
  },
  {
   "cell_type": "code",
   "execution_count": 3,
   "metadata": {},
   "outputs": [
    {
     "name": "stdout",
     "output_type": "stream",
     "text": [
      "Entropy: 0.9709505944546686\n"
     ]
    }
   ],
   "source": [
    "def calculate_entropy(p1, p2):\n",
    "  \"\"\"\n",
    "  Calculates entropy using Shannon's formula.\n",
    "\n",
    "  Args:\n",
    "      p1: Probability of the first outcome.\n",
    "      p2: Probability of the second outcome.\n",
    "\n",
    "  Returns:\n",
    "      The entropy value.\n",
    "  \"\"\"\n",
    "  entropy = - (p1 * math.log2(p1) + p2 * math.log2(p2))\n",
    "  return entropy\n",
    "\n",
    "entropy_value = calculate_entropy(probability_red, probability_blue)\n",
    "print(\"Entropy:\", entropy_value)\n"
   ]
  },
  {
   "cell_type": "markdown",
   "metadata": {},
   "source": [
    "**Explanation:**\n",
    "\n",
    "The calculate_entropy function takes two probabilities as arguments and applies the formula. The math.log2 function calculates the logarithm with base 2.\n",
    "\n",
    "**3. Interpretation**\n",
    "\n",
    "The calculated entropy value (around 0.94) indicates a moderate level of uncertainty. It's not completely random (like a coin toss), but there's not perfect certainty either. There's a higher chance of picking blue (60% probability), but it's not guaranteed.\n",
    "\n",
    "**Conclusion**\n",
    "\n",
    "This notebook explored entropy and demonstrated its calculation in Python. As you saw, entropy helps quantify uncertainty in datasets and plays a vital role in various machine learning algorithms like decision trees."
   ]
  }
 ],
 "metadata": {
  "kernelspec": {
   "display_name": "Python 3",
   "language": "python",
   "name": "python3"
  },
  "language_info": {
   "codemirror_mode": {
    "name": "ipython",
    "version": 3
   },
   "file_extension": ".py",
   "mimetype": "text/x-python",
   "name": "python",
   "nbconvert_exporter": "python",
   "pygments_lexer": "ipython3",
   "version": "3.11.1"
  }
 },
 "nbformat": 4,
 "nbformat_minor": 2
}
