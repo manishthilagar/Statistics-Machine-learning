{
 "cells": [
  {
   "cell_type": "markdown",
   "metadata": {},
   "source": [
    "**Logistic Function Explained with Interactive Visualization**"
   ]
  },
  {
   "cell_type": "markdown",
   "metadata": {},
   "source": [
    "This notebook explores the logistic function, a mathematical function commonly used in statistics, machine learning, and artificial neural networks. The logistic function maps real numbers to values between 0 and 1, making it ideal for modeling probabilities."
   ]
  },
  {
   "cell_type": "markdown",
   "metadata": {},
   "source": [
    "**Understanding the Formula:**\n",
    "The logistic function is defined by the following formula:\n",
    "f(x) = 1 / (1 + exp(-k(x - x0)))\n",
    "Here's a breakdown of the formula elements:\n",
    "\n",
    "**x**: The input value.\n",
    "**k (positive constant)**: Controls the steepness of the curve. A larger k results in a steeper curve, causing the function to transition from 0 to 1 more rapidly around the inflection point.\n",
    "**x0**: The inflection point of the curve. This is the value of x where f(x) is 0.5. The function is symmetrical around this point.\n",
    "**exp**: The exponential function (e raised to the power of).\n",
    "**-**: The negative sign ensures the exponent is negative, leading to values between 0 and 1 in the denominator.\n",
    "\n",
    "**Properties of the Logistic Function:**\n",
    "\n",
    "The range of f(x) is always between 0 and 1 (inclusive).\n",
    "As x approaches positive or negative infinity, f(x) approaches 1 or 0, respectively.\n",
    "\n",
    "**Interactive Visualization with ipywidgets**\n",
    "\n",
    "To gain an intuitive understanding of how k and x0 affect the shape of the logistic function, we'll use interactive widgets.\n",
    "\n",
    "**Import Libraries:**"
   ]
  },
  {
   "cell_type": "code",
   "execution_count": 1,
   "metadata": {},
   "outputs": [],
   "source": [
    "from ipywidgets import interact, FloatSlider\n",
    "import matplotlib.pyplot as plt\n",
    "import numpy as np\n"
   ]
  },
  {
   "cell_type": "markdown",
   "metadata": {},
   "source": [
    "*ipywidgets*: Provides interactive elements like sliders.\n",
    "*matplotlib*.pyplot: Used for generating the plot.\n",
    "*numpy*: Offers numerical operations for calculations.\n",
    "\n",
    "**Define the Logistic Function:**"
   ]
  },
  {
   "cell_type": "code",
   "execution_count": 2,
   "metadata": {},
   "outputs": [],
   "source": [
    "def logistic_function(x, k, x0):\n",
    "  \"\"\"Calculates the logistic function value for a given input x.\"\"\"\n",
    "  return 1 / (1 + np.exp(-k * (x - x0)))\n"
   ]
  },
  {
   "cell_type": "markdown",
   "metadata": {},
   "source": [
    "This function takes x, k, and x0 as arguments and returns the corresponding f(x) value calculated using the logistic formula.\n",
    "\n",
    "**Create the Interactive Plot:**"
   ]
  },
  {
   "cell_type": "code",
   "execution_count": 3,
   "metadata": {},
   "outputs": [],
   "source": [
    "def plot_logistic(k_min=0.1, k_max=5, x0_min=-5, x0_max=5, n=100):\n",
    "  \"\"\"Plots the logistic function with interactive sliders for k and x0.\"\"\"\n",
    "  k_slider = FloatSlider(description='k (steepness)', min=k_min, max=k_max, value=1)\n",
    "  x0_slider = FloatSlider(description='x0 (inflection point)', min=x0_min, max=x0_max, value=0)\n",
    "\n",
    "  x = np.linspace(x0_min, x0_max, n)  # Create an array of x values\n",
    "\n",
    "  plt.figure(figsize=(8, 6))\n",
    "\n",
    "  def update_plot(k, x0):\n",
    "    y = logistic_function(x, k, x0)\n",
    "    plt.clf()  # Clear the plot for each update\n",
    "\n",
    "    plt.plot(x, y, label='Logistic Function')\n",
    "    plt.axhline(0.5, color='gray', linestyle='--', label='y = 0.5')  # Horizontal line at y=0.5\n",
    "    plt.xlabel('x')\n",
    "    plt.ylabel('f(x)')\n",
    "    plt.title('Logistic Function (k = {:.2f}, x0 = {:.2f})'.format(k, x0))\n",
    "    plt.legend()\n",
    "    plt.grid(True)\n",
    "\n",
    "  update_plot(k_slider.value, x0_slider.value)  # Initial plot with default values\n",
    "  interact(update_plot, k=k_slider, x0=x0_slider)  # Link sliders to update function\n",
    "\n",
    "  plt.show()\n"
   ]
  },
  {
   "cell_type": "markdown",
   "metadata": {},
   "source": [
    "plot_logistic function:\n",
    "Sets up sliders for k and x0 with customizable ranges and initial values.\n",
    "Creates an array of x values for the specified range.\n",
    "Defines an update function (update_plot) that:\n",
    "Calculates y values using the logistic_function.\n",
    "Clears the plot to avoid overlapping lines on updates.\n",
    "Plots the logistic function, a horizontal line at y=0.5 (represents the inflection point), labels, title, legend"
   ]
  }
 ],
 "metadata": {
  "kernelspec": {
   "display_name": "Python 3",
   "language": "python",
   "name": "python3"
  },
  "language_info": {
   "codemirror_mode": {
    "name": "ipython",
    "version": 3
   },
   "file_extension": ".py",
   "mimetype": "text/x-python",
   "name": "python",
   "nbconvert_exporter": "python",
   "pygments_lexer": "ipython3",
   "version": "3.11.1"
  }
 },
 "nbformat": 4,
 "nbformat_minor": 2
}
